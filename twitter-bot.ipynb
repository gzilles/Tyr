{
 "cells": [
  {
   "cell_type": "markdown",
   "metadata": {},
   "source": [
    "# Library"
   ]
  },
  {
   "cell_type": "code",
   "execution_count": 32,
   "metadata": {
    "collapsed": true
   },
   "outputs": [],
   "source": [
    "import requests\n",
    "from requests_oauthlib import OAuth1\n",
    "import json\n",
    "import pandas as pd\n",
    "from datetime import date, timedelta, datetime\n",
    "from IPython.display import display\n",
    "%matplotlib inline\n",
    "import numpy as np"
   ]
  },
  {
   "cell_type": "markdown",
   "metadata": {},
   "source": [
    "# Functions"
   ]
  },
  {
   "cell_type": "code",
   "execution_count": 2,
   "metadata": {
    "collapsed": true
   },
   "outputs": [],
   "source": [
    "HEADERS = {'content-type': 'application/json'}\n",
    "\n",
    "def parse_resp(resp, dtype='dataframe'):\n",
    "    \"\"\"\n",
    "    Parse response\n",
    "\n",
    "    Parameters\n",
    "    ----------\n",
    "    resp : requests.models.Response\n",
    "    dtype : {\"dict\", \"dataframe\"}, optional\n",
    "        Return data type\n",
    "    \"\"\"\n",
    "    parsed = json.loads(resp.text)\n",
    "    if dtype.lower() == 'dict':\n",
    "        return parsed\n",
    "    elif dtype.lower() == 'dataframe':\n",
    "        return pd.DataFrame(parsed).T\n",
    "    else:\n",
    "        raise ValueError('Invalid \"dtype\" {}'.format(dtype))\n",
    "\n",
    "\n",
    "def urljoin(*args):\n",
    "    \"\"\"\n",
    "    Join arguments into a url. Trailing and leading slashes are\n",
    "    stripped from each argument.\n",
    "    \"\"\"\n",
    "    return '/'.join(s.strip('/') for s in args)\n",
    "\n",
    "\n",
    "def strjoin(*args):\n",
    "    \"\"\"\n",
    "    Join arguments into a string.\n",
    "\n",
    "    Examples\n",
    "    --------\n",
    "    >>> strjoin('foo', 'bar')  # 'foo,bar'\n",
    "    \"\"\"\n",
    "    return ','.join(args)\n",
    "\n",
    "\n",
    "def split_rows(df, columns):\n",
    "    \"\"\"\n",
    "    Split values in `columns` of `df` into various rows.\n",
    "\n",
    "    Parameters\n",
    "    ----------\n",
    "    df : Pandas DataFrame\n",
    "    columns : list, tuple, str\n",
    "\n",
    "    Returns\n",
    "    -------\n",
    "    Pandas DataFrame\n",
    "    \"\"\"\n",
    "\n",
    "    if df.empty:\n",
    "        return df\n",
    "\n",
    "    if isinstance(columns, basestring):\n",
    "        columns = [columns]\n",
    "\n",
    "    exploded = pd.DataFrame()\n",
    "    df_split = df.reset_index()\n",
    "\n",
    "    original_columns = df.columns\n",
    "    original_indices = list(set(df_split.columns) - set(original_columns))\n",
    "\n",
    "    for cc in columns:\n",
    "        s = df_split[cc].apply(pd.Series).stack()\n",
    "        s.index = s.index.droplevel(-1)\n",
    "        s.name = cc\n",
    "        exploded = pd.concat([exploded, s], axis=1)\n",
    "\n",
    "    static_columns = [cc for cc in original_columns if cc not in columns]\n",
    "    df_split = (pd\n",
    "                .concat([df_split[original_indices + static_columns],\n",
    "                         exploded],\n",
    "                        axis=1)\n",
    "               .set_index(original_indices))[original_columns]\n",
    "\n",
    "    return df_split"
   ]
  },
  {
   "cell_type": "markdown",
   "metadata": {},
   "source": [
    "# Code"
   ]
  },
  {
   "cell_type": "markdown",
   "metadata": {},
   "source": [
    "## Getting Twitter credentials"
   ]
  },
  {
   "cell_type": "code",
   "execution_count": 3,
   "metadata": {
    "collapsed": true
   },
   "outputs": [],
   "source": [
    "def twitter_conn():\n",
    "\n",
    "    from requests_oauthlib import OAuth1\n",
    "\n",
    "    CONSUMER_KEY = ''\n",
    "    CONSUMER_SECRET = ''\n",
    "    ACCESS_TOKEN = ''\n",
    "    ACCESS_TOKEN_SECRET = ''\n",
    "    ACCOUNT_ID = ''\n",
    "    AS_USER_ID = ''\n",
    "\n",
    "    auth = OAuth1(CONSUMER_KEY, CONSUMER_SECRET,\n",
    "               ACCESS_TOKEN, ACCESS_TOKEN_SECRET)\n",
    "    print 'Twitter connection successfully initiated!'\n",
    "    return auth"
   ]
  },
  {
   "cell_type": "markdown",
   "metadata": {},
   "source": [
    "## Getting Twitter direct messages"
   ]
  },
  {
   "cell_type": "code",
   "execution_count": 4,
   "metadata": {},
   "outputs": [
    {
     "name": "stdout",
     "output_type": "stream",
     "text": [
      "Twitter connection successfully initiated!\n"
     ]
    },
    {
     "data": {
      "text/html": [
       "<div>\n",
       "<style>\n",
       "    .dataframe thead tr:only-child th {\n",
       "        text-align: right;\n",
       "    }\n",
       "\n",
       "    .dataframe thead th {\n",
       "        text-align: left;\n",
       "    }\n",
       "\n",
       "    .dataframe tbody tr th {\n",
       "        vertical-align: top;\n",
       "    }\n",
       "</style>\n",
       "<table border=\"1\" class=\"dataframe\">\n",
       "  <thead>\n",
       "    <tr style=\"text-align: right;\">\n",
       "      <th></th>\n",
       "      <th>created_timestamp</th>\n",
       "      <th>id</th>\n",
       "      <th>message_create</th>\n",
       "      <th>type</th>\n",
       "    </tr>\n",
       "  </thead>\n",
       "  <tbody>\n",
       "    <tr>\n",
       "      <th>0</th>\n",
       "      <td>1501986557621</td>\n",
       "      <td>894022537033773059</td>\n",
       "      <td>{u'message_data': {u'text': u'@Adulto_cm', u'e...</td>\n",
       "      <td>message_create</td>\n",
       "    </tr>\n",
       "    <tr>\n",
       "      <th>1</th>\n",
       "      <td>1501986170676</td>\n",
       "      <td>894020914068803587</td>\n",
       "      <td>{u'message_data': {u'text': u'kk', u'entities'...</td>\n",
       "      <td>message_create</td>\n",
       "    </tr>\n",
       "    <tr>\n",
       "      <th>2</th>\n",
       "      <td>1501985783881</td>\n",
       "      <td>894019291732987913</td>\n",
       "      <td>{u'message_data': {u'text': u'aaa', u'entities...</td>\n",
       "      <td>message_create</td>\n",
       "    </tr>\n",
       "    <tr>\n",
       "      <th>3</th>\n",
       "      <td>1501984348830</td>\n",
       "      <td>894013272692854787</td>\n",
       "      <td>{u'message_data': {u'text': u'teste', u'entiti...</td>\n",
       "      <td>message_create</td>\n",
       "    </tr>\n",
       "    <tr>\n",
       "      <th>4</th>\n",
       "      <td>1501983263167</td>\n",
       "      <td>894008719092178947</td>\n",
       "      <td>{u'message_data': {u'text': u'me respondeee', ...</td>\n",
       "      <td>message_create</td>\n",
       "    </tr>\n",
       "    <tr>\n",
       "      <th>5</th>\n",
       "      <td>1501982689176</td>\n",
       "      <td>894006311599439875</td>\n",
       "      <td>{u'message_data': {u'text': u'tudo bem?', u'en...</td>\n",
       "      <td>message_create</td>\n",
       "    </tr>\n",
       "    <tr>\n",
       "      <th>6</th>\n",
       "      <td>1501981604298</td>\n",
       "      <td>894001761291313155</td>\n",
       "      <td>{u'message_data': {u'text': u'oi', u'entities'...</td>\n",
       "      <td>message_create</td>\n",
       "    </tr>\n",
       "  </tbody>\n",
       "</table>\n",
       "</div>"
      ],
      "text/plain": [
       "  created_timestamp                  id  \\\n",
       "0     1501986557621  894022537033773059   \n",
       "1     1501986170676  894020914068803587   \n",
       "2     1501985783881  894019291732987913   \n",
       "3     1501984348830  894013272692854787   \n",
       "4     1501983263167  894008719092178947   \n",
       "5     1501982689176  894006311599439875   \n",
       "6     1501981604298  894001761291313155   \n",
       "\n",
       "                                      message_create            type  \n",
       "0  {u'message_data': {u'text': u'@Adulto_cm', u'e...  message_create  \n",
       "1  {u'message_data': {u'text': u'kk', u'entities'...  message_create  \n",
       "2  {u'message_data': {u'text': u'aaa', u'entities...  message_create  \n",
       "3  {u'message_data': {u'text': u'teste', u'entiti...  message_create  \n",
       "4  {u'message_data': {u'text': u'me respondeee', ...  message_create  \n",
       "5  {u'message_data': {u'text': u'tudo bem?', u'en...  message_create  \n",
       "6  {u'message_data': {u'text': u'oi', u'entities'...  message_create  "
      ]
     },
     "execution_count": 4,
     "metadata": {},
     "output_type": "execute_result"
    }
   ],
   "source": [
    "twi_conn = twitter_conn()\n",
    "url = 'https://api.twitter.com/1.1/direct_messages/events/list.json?'\n",
    "\n",
    "params = {'count':100}\n",
    "resp = requests.get(url, auth=twi_conn, params=params)\n",
    "\n",
    "parsed = parse_resp(resp, dtype='dict')\n",
    "report_to_explode = pd.DataFrame(parsed['events'])\n",
    "report_to_explode"
   ]
  },
  {
   "cell_type": "markdown",
   "metadata": {},
   "source": [
    "## Cleaning data"
   ]
  },
  {
   "cell_type": "code",
   "execution_count": 15,
   "metadata": {
    "collapsed": true
   },
   "outputs": [],
   "source": [
    "ii=0\n",
    "while ii < len(report_to_explode):\n",
    "    message_content = pd.DataFrame(report_to_explode.loc[ii, 'message_create']) \\\n",
    "                        .loc['text', ['message_data', 'sender_id']].reset_index().transpose()\n",
    "    sender_data = pd.DataFrame(pd.DataFrame(report_to_explode.loc[0,'message_create']) \\\n",
    "                        .loc['entities','message_data']['user_mentions'])\n",
    "    user_data = pd.DataFrame([{u'id_str': '893999773262516224', u'screen_name': u'kid'}])\n",
    "    if str(message_content.loc['text',1]) == '893999773262516224':\n",
    "        dirty_df = message_content.merge(user_data, left_on=1, right_on='id_str')\\\n",
    "              .rename(columns={0:'message', 'screen_name':'sender_name'})\n",
    "    else:\n",
    "        dirty_df = message_content.merge(sender_data, left_on=1, right_on='id_str') \\\n",
    "              .rename(columns={0:'message', 'screen_name':'sender_name'})\n",
    "    dirty_df = dirty_df.loc[:,['message', 'sender_name']]\n",
    "    dirty_df = dirty_df.set_index([[ii]])\n",
    "    clean_df = dirty_df.merge(report_to_explode, left_index=True, right_index=True)\n",
    "    clean_df = clean_df.loc[:,['sender_name', 'created_timestamp', 'message']]\n",
    "    if ii==0:\n",
    "        df = clean_df\n",
    "    else:\n",
    "        df = df.append(clean_df)\n",
    "    ii=ii+1"
   ]
  },
  {
   "cell_type": "code",
   "execution_count": 19,
   "metadata": {},
   "outputs": [
    {
     "data": {
      "text/html": [
       "<div>\n",
       "<style>\n",
       "    .dataframe thead tr:only-child th {\n",
       "        text-align: right;\n",
       "    }\n",
       "\n",
       "    .dataframe thead th {\n",
       "        text-align: left;\n",
       "    }\n",
       "\n",
       "    .dataframe tbody tr th {\n",
       "        vertical-align: top;\n",
       "    }\n",
       "</style>\n",
       "<table border=\"1\" class=\"dataframe\">\n",
       "  <thead>\n",
       "    <tr style=\"text-align: right;\">\n",
       "      <th></th>\n",
       "      <th>sender_name</th>\n",
       "      <th>created_timestamp</th>\n",
       "      <th>message</th>\n",
       "    </tr>\n",
       "  </thead>\n",
       "  <tbody>\n",
       "    <tr>\n",
       "      <th>0</th>\n",
       "      <td>kid</td>\n",
       "      <td>1501986557621</td>\n",
       "      <td>@Adulto_cm</td>\n",
       "    </tr>\n",
       "    <tr>\n",
       "      <th>1</th>\n",
       "      <td>Adulto_cm</td>\n",
       "      <td>1501986170676</td>\n",
       "      <td>kk</td>\n",
       "    </tr>\n",
       "    <tr>\n",
       "      <th>2</th>\n",
       "      <td>kid</td>\n",
       "      <td>1501985783881</td>\n",
       "      <td>aaa</td>\n",
       "    </tr>\n",
       "    <tr>\n",
       "      <th>3</th>\n",
       "      <td>kid</td>\n",
       "      <td>1501984348830</td>\n",
       "      <td>teste</td>\n",
       "    </tr>\n",
       "    <tr>\n",
       "      <th>4</th>\n",
       "      <td>kid</td>\n",
       "      <td>1501983263167</td>\n",
       "      <td>me respondeee</td>\n",
       "    </tr>\n",
       "    <tr>\n",
       "      <th>5</th>\n",
       "      <td>kid</td>\n",
       "      <td>1501982689176</td>\n",
       "      <td>tudo bem?</td>\n",
       "    </tr>\n",
       "    <tr>\n",
       "      <th>6</th>\n",
       "      <td>Adulto_cm</td>\n",
       "      <td>1501981604298</td>\n",
       "      <td>oi</td>\n",
       "    </tr>\n",
       "  </tbody>\n",
       "</table>\n",
       "</div>"
      ],
      "text/plain": [
       "  sender_name created_timestamp        message\n",
       "0         kid     1501986557621     @Adulto_cm\n",
       "1   Adulto_cm     1501986170676             kk\n",
       "2         kid     1501985783881            aaa\n",
       "3         kid     1501984348830          teste\n",
       "4         kid     1501983263167  me respondeee\n",
       "5         kid     1501982689176      tudo bem?\n",
       "6   Adulto_cm     1501981604298             oi"
      ]
     },
     "execution_count": 19,
     "metadata": {},
     "output_type": "execute_result"
    }
   ],
   "source": [
    "df"
   ]
  },
  {
   "cell_type": "code",
   "execution_count": 36,
   "metadata": {},
   "outputs": [
    {
     "data": {
      "text/plain": [
       "<matplotlib.axes._subplots.AxesSubplot at 0x11a68f790>"
      ]
     },
     "execution_count": 36,
     "metadata": {},
     "output_type": "execute_result"
    },
    {
     "data": {
      "image/png": "[encoded data removed]",
      "text/plain": [
       "<matplotlib.figure.Figure at 0x11a67b810>"
      ]
     },
     "metadata": {},
     "output_type": "display_data"
    }
   ],
   "source": [
    "df.groupby(['sender_name'])['message'].count().plot(kind='pie')"
   ]
  },
  {
   "cell_type": "code",
   "execution_count": 39,
   "metadata": {},
   "outputs": [
    {
     "data": {
      "text/html": [
       "<div>\n",
       "<style>\n",
       "    .dataframe thead tr:only-child th {\n",
       "        text-align: right;\n",
       "    }\n",
       "\n",
       "    .dataframe thead th {\n",
       "        text-align: left;\n",
       "    }\n",
       "\n",
       "    .dataframe tbody tr th {\n",
       "        vertical-align: top;\n",
       "    }\n",
       "</style>\n",
       "<table border=\"1\" class=\"dataframe\">\n",
       "  <thead>\n",
       "    <tr style=\"text-align: right;\">\n",
       "      <th></th>\n",
       "      <th>sender_name</th>\n",
       "      <th>message</th>\n",
       "    </tr>\n",
       "  </thead>\n",
       "  <tbody>\n",
       "    <tr>\n",
       "      <th>0</th>\n",
       "      <td>Adulto_cm</td>\n",
       "      <td>2</td>\n",
       "    </tr>\n",
       "    <tr>\n",
       "      <th>1</th>\n",
       "      <td>kid</td>\n",
       "      <td>5</td>\n",
       "    </tr>\n",
       "  </tbody>\n",
       "</table>\n",
       "</div>"
      ],
      "text/plain": [
       "  sender_name  message\n",
       "0   Adulto_cm        2\n",
       "1         kid        5"
      ]
     },
     "execution_count": 39,
     "metadata": {},
     "output_type": "execute_result"
    }
   ],
   "source": [
    "df.groupby(['sender_name'])['message'].count().reset_index()"
   ]
  },
  {
   "cell_type": "code",
   "execution_count": 34,
   "metadata": {},
   "outputs": [
    {
     "data": {
      "text/plain": [
       "<matplotlib.axes._subplots.AxesSubplot at 0x11991d850>"
      ]
     },
     "execution_count": 34,
     "metadata": {},
     "output_type": "execute_result"
    },
    {
     "data": {
      "image/png": "[encoded data removed]",
      "text/plain": [
       "<matplotlib.figure.Figure at 0x11a4090d0>"
      ]
     },
     "metadata": {},
     "output_type": "display_data"
    }
   ],
   "source": [
    "df.groupby(['sender_name', 'message'])['message'].count().plot(kind='pie')"
   ]
  },
  {
   "cell_type": "code",
   "execution_count": null,
   "metadata": {
    "collapsed": true
   },
   "outputs": [],
   "source": []
  }
 ],
 "metadata": {
  "kernelspec": {
   "display_name": "Python [conda root]",
   "language": "python",
   "name": "conda-root-py"
  },
  "language_info": {
   "codemirror_mode": {
    "name": "ipython",
    "version": 2
   },
   "file_extension": ".py",
   "mimetype": "text/x-python",
   "name": "python",
   "nbconvert_exporter": "python",
   "pygments_lexer": "ipython2",
   "version": "2.7.13"
  }
 },
 "nbformat": 4,
 "nbformat_minor": 2
}
